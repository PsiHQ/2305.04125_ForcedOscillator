{
 "cells": [
  {
   "cell_type": "markdown",
   "id": "4a08c3bd-0ae7-4130-9f19-e82c6f129862",
   "metadata": {
    "tags": []
   },
   "source": [
    "## Forced oscillator - DynamicalSystems.jl approach"
   ]
  },
  {
   "cell_type": "markdown",
   "id": "d9859bb3-d0a5-4108-ada7-4e5dda725217",
   "metadata": {
    "jp-MarkdownHeadingCollapsed": true,
    "tags": []
   },
   "source": [
    "### Packages"
   ]
  },
  {
   "cell_type": "code",
   "execution_count": 1,
   "id": "9c552a85-bb2d-42cb-bc15-928816b13268",
   "metadata": {},
   "outputs": [
    {
     "name": "stderr",
     "output_type": "stream",
     "text": [
      "\u001b[32m\u001b[1m   Resolving\u001b[22m\u001b[39m package versions...\n",
      "\u001b[32m\u001b[1m  No Changes\u001b[22m\u001b[39m to `C:\\Users\\shiha\\.julia\\environments\\v1.9\\Project.toml`\n",
      "\u001b[32m\u001b[1m  No Changes\u001b[22m\u001b[39m to `C:\\Users\\shiha\\.julia\\environments\\v1.9\\Manifest.toml`\n",
      "\u001b[32m\u001b[1m   Resolving\u001b[22m\u001b[39m package versions...\n",
      "\u001b[32m\u001b[1m  No Changes\u001b[22m\u001b[39m to `C:\\Users\\shiha\\.julia\\environments\\v1.9\\Project.toml`\n",
      "\u001b[32m\u001b[1m  No Changes\u001b[22m\u001b[39m to `C:\\Users\\shiha\\.julia\\environments\\v1.9\\Manifest.toml`\n",
      "\u001b[32m\u001b[1m   Resolving\u001b[22m\u001b[39m package versions...\n",
      "\u001b[32m\u001b[1m  No Changes\u001b[22m\u001b[39m to `C:\\Users\\shiha\\.julia\\environments\\v1.9\\Project.toml`\n",
      "\u001b[32m\u001b[1m  No Changes\u001b[22m\u001b[39m to `C:\\Users\\shiha\\.julia\\environments\\v1.9\\Manifest.toml`\n",
      "\u001b[32m\u001b[1m   Resolving\u001b[22m\u001b[39m package versions...\n",
      "\u001b[32m\u001b[1m  No Changes\u001b[22m\u001b[39m to `C:\\Users\\shiha\\.julia\\environments\\v1.9\\Project.toml`\n",
      "\u001b[32m\u001b[1m  No Changes\u001b[22m\u001b[39m to `C:\\Users\\shiha\\.julia\\environments\\v1.9\\Manifest.toml`\n",
      "\u001b[32m\u001b[1m   Resolving\u001b[22m\u001b[39m package versions...\n",
      "\u001b[32m\u001b[1m  No Changes\u001b[22m\u001b[39m to `C:\\Users\\shiha\\.julia\\environments\\v1.9\\Project.toml`\n",
      "\u001b[32m\u001b[1m  No Changes\u001b[22m\u001b[39m to `C:\\Users\\shiha\\.julia\\environments\\v1.9\\Manifest.toml`\n",
      "\u001b[32m\u001b[1m   Resolving\u001b[22m\u001b[39m package versions...\n",
      "\u001b[32m\u001b[1m  No Changes\u001b[22m\u001b[39m to `C:\\Users\\shiha\\.julia\\environments\\v1.9\\Project.toml`\n",
      "\u001b[32m\u001b[1m  No Changes\u001b[22m\u001b[39m to `C:\\Users\\shiha\\.julia\\environments\\v1.9\\Manifest.toml`\n",
      "\u001b[32m\u001b[1m   Resolving\u001b[22m\u001b[39m package versions...\n",
      "\u001b[32m\u001b[1m  No Changes\u001b[22m\u001b[39m to `C:\\Users\\shiha\\.julia\\environments\\v1.9\\Project.toml`\n",
      "\u001b[32m\u001b[1m  No Changes\u001b[22m\u001b[39m to `C:\\Users\\shiha\\.julia\\environments\\v1.9\\Manifest.toml`\n",
      "\u001b[32m\u001b[1m   Resolving\u001b[22m\u001b[39m package versions...\n",
      "\u001b[32m\u001b[1m  No Changes\u001b[22m\u001b[39m to `C:\\Users\\shiha\\.julia\\environments\\v1.9\\Project.toml`\n",
      "\u001b[32m\u001b[1m  No Changes\u001b[22m\u001b[39m to `C:\\Users\\shiha\\.julia\\environments\\v1.9\\Manifest.toml`\n"
     ]
    }
   ],
   "source": [
    "import Pkg\n",
    "Pkg.add(\"Symbolics\")\n",
    "Pkg.add(\"Plots\")\n",
    "Pkg.add(\"LaTeXStrings\")\n",
    "Pkg.add(\"DifferentialEquations\")\n",
    "Pkg.add(\"ModelingToolkit\")\n",
    "Pkg.add(\"Measures\")\n",
    "Pkg.add(\"PlotThemes\")\n",
    "Pkg.add(\"DynamicalSystems\")\n",
    "\n",
    "#Optional - \n",
    "# Pkg.add(\"DataFrames\")\n",
    "# Pkg.add(\"Tables\")\n",
    "# Pkg.add(\"CSV\")\n",
    "\n",
    "using Symbolics, Plots, DifferentialEquations, ModelingToolkit, LaTeXStrings, Measures, DynamicalSystems #DataFrames, Tables, CSV"
   ]
  },
  {
   "cell_type": "markdown",
   "id": "83465564-021e-4695-8d2b-79c827aca5bf",
   "metadata": {
    "jp-MarkdownHeadingCollapsed": true,
    "tags": []
   },
   "source": [
    "### System definition"
   ]
  },
  {
   "cell_type": "code",
   "execution_count": 2,
   "id": "f9eac0cc-f0b0-40b6-86a7-f5b0c0dca86f",
   "metadata": {},
   "outputs": [
    {
     "data": {
      "text/plain": [
       "forced_osc! (generic function with 1 method)"
      ]
     },
     "execution_count": 2,
     "metadata": {},
     "output_type": "execute_result"
    }
   ],
   "source": [
    "function forced_osc!(du, u, p, t) #the whole system\n",
    "    ω = p[1]; F = p[2]; \n",
    "    du[1] = u[2]\n",
    "    du[2] =  - sin(u[1])*ω^2 + F*cos(ω*t)*ω^2 \n",
    "    return nothing #always `return nothing` for in-place form! \n",
    "end\n",
    "\n",
    "# function trun_osc!(du, u, p, t) #the truncated system\n",
    "#     ω = p[1]; F = p[2]; \n",
    "#     du[1] = u[2]\n",
    "#     du[2] =  - u[1]*ω^2 + (ω^2/6)*u[1]^3 + F*cos(ω*t)*ω^2 \n",
    "#     return nothing #always `return nothing` for in-place form! \n",
    "# end"
   ]
  },
  {
   "cell_type": "code",
   "execution_count": 133,
   "id": "b00be4f4-9d67-4f97-bd42-49c74b46271b",
   "metadata": {},
   "outputs": [
    {
     "data": {
      "text/plain": [
       "(alg = Rodas4P{0, true, Nothing, typeof(OrdinaryDiffEq.DEFAULT_PRECS), Val{:forward}, true, nothing}(nothing, OrdinaryDiffEq.DEFAULT_PRECS), abstol = 1.0e-8, reltol = 1.0e-8, maxiters = 1.0e8)"
      ]
     },
     "execution_count": 133,
     "metadata": {},
     "output_type": "execute_result"
    }
   ],
   "source": [
    "u0 = [0, 1e-4] #initial conditions: zero displacement, negligible velocity\n",
    "N = 2000 #No. of trials\n",
    "p = Array{Vector}(undef, N) #different parameter ranges in [ω, F] format\n",
    "P = Array{Vector}(undef, N)\n",
    "for n in 1:N\n",
    "    p[n] = [rand(0.5:0.5:5), rand(0.05:0.05:10)]\n",
    "    P[n] = [rand(1:0.5:5), rand(0.1:0.01:1)]\n",
    "end\n",
    "diffeq = (alg = RK4(), abstol = 1e-8, reltol = 1e-8, maxiters = 1e8) #Solver specifications"
   ]
  },
  {
   "cell_type": "code",
   "execution_count": 4,
   "id": "ad2d3e75-ae4a-479a-929c-9dd97df4e8bd",
   "metadata": {},
   "outputs": [],
   "source": [
    "theme(:bright) #for the plots\n",
    "\n",
    "#for proper plot layout\n",
    "# Y = plot(ticks = :false, annotation = (0.5, 0.55, (L\"p_{\\theta}\", 12)), size = (20,50))\n",
    "# X = plot(ticks = :false, annotation = (0.5, 0.5, (L\"\\theta\", 12)), size = (50,20))"
   ]
  },
  {
   "cell_type": "markdown",
   "id": "8ac1f37d-a150-42f3-a00f-c31c8c5be9d6",
   "metadata": {
    "jp-MarkdownHeadingCollapsed": true,
    "tags": []
   },
   "source": [
    "### Trajectories, phase space diagrams, Poincare sections"
   ]
  },
  {
   "cell_type": "code",
   "execution_count": 101,
   "id": "f49255cf-afcf-4321-abba-cf9fe55200c5",
   "metadata": {},
   "outputs": [
    {
     "data": {
      "text/plain": [
       "2-dimensional CoupledODEs\n",
       " deterministic: true\n",
       " discrete time: false\n",
       " in-place:      true\n",
       " dynamic rule:  forced_osc!\n",
       " ODE solver:    DP5\n",
       " ODE kwargs:    (abstol = 1.0e-8, reltol = 1.0e-8, maxiters = 1.0e8)\n",
       " parameters:    [1.0, 0.1]\n",
       " time:          0.0\n",
       " state:         [0.0, 0.0001]\n"
      ]
     },
     "execution_count": 101,
     "metadata": {},
     "output_type": "execute_result"
    }
   ],
   "source": [
    "#defining the various systems\n",
    "forcedoscillator = ContinuousDynamicalSystem(forced_osc!, u0, [1,0.1]; diffeq)\n",
    "forcedoscillator2 = ContinuousDynamicalSystem(forced_osc!, u0, [1,0.1]; diffeq)\n",
    "forcedoscillator3 = ContinuousDynamicalSystem(forced_osc!, u0, [1,0.2]; diffeq)\n",
    "forcedoscillator4 = ContinuousDynamicalSystem(forced_osc!, u0, [1,0.33]; diffeq)\n",
    "forcedoscillator5 = ContinuousDynamicalSystem(forced_osc!, u0, [1,0.34]; diffeq)\n",
    "forcedoscillator6 = ContinuousDynamicalSystem(forced_osc!, u0, [1,0.5]; diffeq)"
   ]
  },
  {
   "cell_type": "code",
   "execution_count": 102,
   "id": "a9de3521-4394-4808-a0c5-dbfa18873d63",
   "metadata": {},
   "outputs": [
    {
     "data": {
      "text/plain": [
       "(2-dimensional StateSpaceSet{Float64} with 250001 points, 0.0:0.1:25000.0)"
      ]
     },
     "execution_count": 102,
     "metadata": {},
     "output_type": "execute_result"
    }
   ],
   "source": [
    "# phase space diagrams\n",
    "ψ1, t = trajectory(forcedoscillator, 800; Δt = 0.1)\n",
    "ψ2, t = trajectory(forcedoscillator2, 800; Δt = 0.1) \n",
    "ψ3, t = trajectory(forcedoscillator3, 800; Δt = 0.1)\n",
    "ψ4, t = trajectory(forcedoscillator4, 800; Δt = 0.1) \n",
    "ψ5, t = trajectory(forcedoscillator5, 800; Δt = 0.1) \n",
    "ψ6, t = trajectory(forcedoscillator6, 800; Δt = 0.1) \n",
    "\n",
    "PS1 = scatter(ψ1[:, 1], ψ1[:, 2], lw = 0, markersize = 0.5, size = (700, 400), markerstrokewidth = 0, framestyle = :box, label = L\"F = 0.05\", legendposition = :topright)\n",
    "PS2 = scatter(ψ2[:, 1], ψ2[:, 2], lw = 0, markersize = 0.5, size = (700, 400), markerstrokewidth = 0, framestyle = :box, label = L\"F = 0.1\", legendposition = :topright)\n",
    "PS3 = scatter(ψ3[:, 1], ψ3[:, 2], lw = 0, markersize = 0.5, size = (700, 400), markerstrokewidth = 0, framestyle = :box, label = L\"F = 0.28\", legendposition = :topright)\n",
    "PS4 = scatter(ψ4[:, 1], ψ4[:, 2], lw = 0, markersize = 0.5, size = (700, 400), markerstrokewidth = 0, framestyle = :box, label = L\"F = 0.33\", legendposition = :topright)\n",
    "PS5 = scatter(ψ5[:, 1], ψ5[:, 2], lw = 0, markersize = 0.5, size = (700, 400), markerstrokewidth = 0, framestyle = :box, label = L\"F = 0.34\", legendposition = :topright)\n",
    "PS6 = scatter(ψ6[:, 1], ψ6[:, 2], lw = 0, markersize = 0.5, size = (700, 400), markerstrokewidth = 0, framestyle = :box, label = L\"F = 0.5\", legendposition = :topright)"
   ]
  },
  {
   "cell_type": "code",
   "execution_count": 39,
   "id": "d7098bf9-5143-4877-a213-eb11836c2c87",
   "metadata": {},
   "outputs": [],
   "source": [
    "#Poincare maps\n",
    "ψ11, t = trajectory(forcedoscillator, 25000; Δt = 2π)\n",
    "ψ22, t = trajectory(forcedoscillator2, 25000; Δt = 2π) \n",
    "ψ33, t = trajectory(forcedoscillator3, 25000; Δt = 2π)\n",
    "ψ44, t = trajectory(forcedoscillator4, 25000; Δt = 2π) \n",
    "ψ55, t = trajectory(forcedoscillator5, 25000; Δt = 2π) \n",
    "ψ66, t = trajectory(forcedoscillator6, 25000; Δt = 2π) \n",
    "\n",
    "SM1 = scatter(ψ11[:, 1], ψ11[:, 2], size = (700, 400), framestyle = :box, label = L\"F = 0.05\", legendposition = :topright, markersize = 0.5, markerstrokewidth = 0)\n",
    "SM2 = scatter(ψ22[:, 1], ψ22[:, 2], size = (700, 400), framestyle = :box, label = L\"F = 0.1\", legendposition = :topright, markersize = 0.5, markerstrokewidth = 0)\n",
    "SM3 = scatter(ψ33[:, 1], ψ33[:, 2], size = (700, 400), framestyle = :box, label = L\"F = 0.28\", legendposition = :topright, markersize = 0.5, markerstrokewidth = 0)\n",
    "SM4 = scatter(ψ44[:, 1], ψ44[:, 2], size = (700, 400), framestyle = :box, label = L\"F = 0.33\", legendposition = :topright, markersize = 0.5, markerstrokewidth = 0)\n",
    "SM5 = scatter(ψ55[:, 1], ψ55[:, 2], size = (700, 400), framestyle = :box, label = L\"F = 0.34\", legendposition = :topright, markersize = 0.5, markerstrokewidth = 0)\n",
    "SM6 = scatter(ψ66[:, 1], ψ66[:, 2], size = (700, 400), framestyle = :box, label = L\"F = 0.5\", legendposition = :topright, markersize = 0.5, markerstrokewidth = 0)"
   ]
  },
  {
   "cell_type": "code",
   "execution_count": 18,
   "id": "7642955b-a204-4930-86e3-05e019441490",
   "metadata": {},
   "outputs": [],
   "source": [
    "#For proper layout\n",
    "# l = @layout [\n",
    "#     a{0.0001w} [[grid(2,3)] \n",
    "#     b{0.0001h}]\n",
    "# ]\n",
    "# C₁ = plot(Y, PS1, PS2, PS3, PS4, PS5, PS6, X, layout = l, size = (800, 300), plot_title = L\"Phase space diagrams for $t = 800 \\ [s]$\", plot_titlefontsize = 9, \n",
    "#     tickfontsize = 5, legendfontsize = 7)"
   ]
  },
  {
   "cell_type": "code",
   "execution_count": 25,
   "id": "290641bf-58c6-47fb-b28f-516039d3766a",
   "metadata": {},
   "outputs": [],
   "source": [
    "#For proper layout\n",
    "# l = @layout [\n",
    "#     a{0.0001w} [[grid(2,3)] \n",
    "#     b{0.0001h}]\n",
    "# ]\n",
    "# C₂ = plot(Y, SM1, SM2, SM3, SM4, SM5, SM6, X, layout = l, size = (800, 300), plot_title = L\"Stroboscopic maps for $t = 25,000 \\ [s]$\", plot_titlefontsize = 9, \n",
    "#     tickfontsize = 5, legendfontsize = 7)"
   ]
  },
  {
   "cell_type": "code",
   "execution_count": null,
   "id": "3ee22a1f-a21e-44b3-9546-dbdcc037c3fb",
   "metadata": {},
   "outputs": [],
   "source": [
    "#savefig(C₁, \"PTPS.pdf\")\n",
    "#savefig(C₂, \"PTSM.pdf\")"
   ]
  },
  {
   "cell_type": "markdown",
   "id": "1084b8d9-9e7b-4c24-affd-9851cd6851bc",
   "metadata": {
    "jp-MarkdownHeadingCollapsed": true,
    "tags": []
   },
   "source": [
    "### Lyapunov exponents"
   ]
  },
  {
   "cell_type": "code",
   "execution_count": 134,
   "id": "95a49335-ebfd-41aa-a55a-092278634242",
   "metadata": {},
   "outputs": [],
   "source": [
    "Fparam = Array{Float64}(undef, N) #for random F\n",
    "Tparam = Array{Float64}(undef, N) #for variable time of evolutions\n",
    "Wparam = Array{Float64}(undef, N) #use if ω is to be randomised as well\n",
    "for n in 1:N\n",
    "    Fparam[n] = rand(0.001:0.001:1)\n",
    "    Tparam[n] = n/10\n",
    "    Wparam[n] = rand(0.1:0.01:5)\n",
    "end"
   ]
  },
  {
   "cell_type": "code",
   "execution_count": 137,
   "id": "f423c547-0e93-4c70-b703-9368f17221c5",
   "metadata": {},
   "outputs": [],
   "source": [
    "L1 = Array{Float64}(undef, N)\n",
    "L2 = Array{Float64}(undef, N)\n",
    "L3 = Array{Float64}(undef, N)\n",
    "L4 = Array{Float64}(undef, N)\n",
    "\n",
    "T = 10000 #total time of evolution\n",
    "\n",
    "for n in 1:N\n",
    "    f1 = CoupledODEs(forced_osc!, u0, [1, Fparam[n]]; diffeq)\n",
    "    L1[n] = lyapunov(f1, T, Δt = 0.01) #for L vs F\n",
    "    \n",
    "    f2 = CoupledODEs(forced_osc!, u0, [Wparam[n], 0.1]; diffeq)\n",
    "    L2[n] = lyapunov(f2, T, Δt = 0.01) #for L vs ω\n",
    "    \n",
    "    f = CoupledODEs(forced_osc!, u0, [1, 0.4]; diffeq)\n",
    "    fnew = CoupledODEs(forced_osc!, u0, [1, 0.33]; diffeq)\n",
    "    L3[n] = lyapunov(f, Tparam[n], Δt = 0.01)\n",
    "    L4[n] = lyapunov(fnew, Tparam[n], Δt = 0.01) #for L vs T\n",
    "end"
   ]
  },
  {
   "cell_type": "code",
   "execution_count": null,
   "id": "cddb57a5-3647-46bf-98fa-4e8be1ce7f8b",
   "metadata": {},
   "outputs": [],
   "source": [
    "#for plotting L vs ω\n",
    "# A₁ = plot()\n",
    "# for m in 1:N\n",
    "#     scatter!((Wparam[m], L2[m]), label = :false, c = \"dark blue\", markersize = 1.3)\n",
    "# end\n",
    "# plot!(xlabel = L\"\\omega\", size = (600, 380), titlefontsize = 9, framestyle = :box, labelfontsize = 10, tickfontsize = 5)\n",
    "# A₁"
   ]
  },
  {
   "cell_type": "code",
   "execution_count": 29,
   "id": "879dac88-c97b-43c1-a480-17c5d761b588",
   "metadata": {},
   "outputs": [],
   "source": [
    "#for plotting L vs F\n",
    "# A₂ = plot()\n",
    "# for m in 1:N\n",
    "#     scatter!((Fparam[m], L1[m]), label = :false, markersize = 0.8, c = \"dark blue\")\n",
    "# end\n",
    "# plot!(xlabel = L\"F\", size = (600, 350), titlefontsize = 7, framestyle = :box, labelfontsize = 11, tickfontsize = 5, xlims = (-0.05, 1))\n",
    "# #plot!(plot_title = L\"The maximum Lyapunov exponent for $t = 800 \\ [sec]$\", plot_titlefontsize = 10)#, margin = 2mm)xticks = 0:0.1:1, \n",
    "# A₂"
   ]
  },
  {
   "cell_type": "code",
   "execution_count": 30,
   "id": "bf064d13-14fc-446f-8941-a030d89305a7",
   "metadata": {},
   "outputs": [],
   "source": [
    "#for plotting L vs T\n",
    "# A₃ = plot()\n",
    "# for m in 1:N\n",
    "#     if m ==1\n",
    "#     scatter!((Tparam[m], L3[m]), label = L\"F = 0.4\", markersize = 0.7, c = \"dark blue\")\n",
    "#     scatter!((Tparam[m], L4[m]), label = L\"F = 0.33\", markersize = 0.7, c = \"red\")\n",
    "# else\n",
    "#     scatter!((Tparam[m], L3[m]), label = :false, markersize = 0.7, c = \"dark blue\")\n",
    "#     scatter!((Tparam[m], L4[m]), label = :false, markersize = 0.7, c = \"red\")\n",
    "#     end\n",
    "\n",
    "# end\n",
    "# plot!(legendposition = :bottomright)\n",
    "# plot!(xlabel = L\"T\", size = (600, 350), titlefontsize = 7, framestyle = :box, labelfontsize = 11, tickfontsize = 5, ylabel = L\"\\mathrm{L}_{max}\", ylim = (-0.05, 0.23))\n",
    "# A₃"
   ]
  },
  {
   "cell_type": "code",
   "execution_count": 31,
   "id": "77b44691-f010-42b6-a6c0-83e71f196026",
   "metadata": {},
   "outputs": [],
   "source": [
    "# plot(A₃, A₂, layout = (1,2), size = (800, 300), plot_title = \"Plot of the parameters against the maximum Lyapunov exponent\",\n",
    "#      plot_titlefontsize = 10, margin = 2.5mm)"
   ]
  },
  {
   "cell_type": "markdown",
   "id": "2a63e915-a33b-421f-99ca-1c98aa1e29aa",
   "metadata": {
    "jp-MarkdownHeadingCollapsed": true,
    "tags": []
   },
   "source": [
    "### For the colour coded figure"
   ]
  },
  {
   "cell_type": "code",
   "execution_count": null,
   "id": "b7b01bde-eb45-42e2-8826-db18ccd1c262",
   "metadata": {},
   "outputs": [],
   "source": [
    "X = Array{Float64}(undef, N)  # for the colour coded graph\n",
    "\n",
    "for n in 1:N\n",
    "    f_X = CoupledODEs(forced_osc!, u0, [Wparam[n], Fparam[n]]; diffeq)\n",
    "    ψ, t = trajectory(f_X, T; Δt = 0.1)  ## T from earlier\n",
    "    X[n] =  last(ψ[:, 1])\n",
    "end"
   ]
  },
  {
   "cell_type": "code",
   "execution_count": null,
   "id": "1fdceaaf-d3de-4259-a434-473e37febc47",
   "metadata": {},
   "outputs": [],
   "source": [
    "#for plotting colour map\n",
    "\n",
    "# Y = @. abs(X)/N # normalising by number of trials\n",
    "# s = @. 1 + 0.8*Y # scaling size proportional to magnitude of amplitude\n",
    "\n",
    "# scatter(Wparam, Fparam, zcolor = Y, markersize = s, color = :Reds_7, xlabel = L\"\\omega\", ylabel = L\"F\", label = :false)\n",
    "# scatter!(title = L\"T = 10000\\ [\\sec]\", size = (600, 380), titlefontsize = 10, framestyle = :box, labelfontsize = 12, legendfontsize = 10, tickfontsize = 8, margin = 2mm)\n",
    "# hline!([0.33], lw = 1, c = \"black\", ls = :dash, label = L\"F = 0.33\", legendposition = :bottomright)\n",
    "\n",
    "#savefig(\"colour.pdf\")"
   ]
  },
  {
   "cell_type": "markdown",
   "id": "8714c725-d059-46c5-b393-1a8a98245e39",
   "metadata": {
    "jp-MarkdownHeadingCollapsed": true,
    "tags": []
   },
   "source": [
    "### Optional: saving data"
   ]
  },
  {
   "cell_type": "code",
   "execution_count": null,
   "id": "59793d29-c18a-4825-96c9-4e8df608a8ca",
   "metadata": {},
   "outputs": [],
   "source": [
    "# This was used to obtain the inset figure since plotting insets in Julia is tricky. The data from above was saved into dataframes and\n",
    "# written to .csv files which were used to plot the inset figure using Microsoft Excel and the inset inserted using XJournal++"
   ]
  },
  {
   "cell_type": "code",
   "execution_count": null,
   "id": "edd2edff-ccd3-44de-86f8-684202cb1432",
   "metadata": {},
   "outputs": [],
   "source": [
    "dF = DataFrame(Fparam', :auto)\n",
    "dL = DataFrame(L1', :auto)\n",
    "dFN= DataFrame([[names(dF)]; collect.(eachrow(dF))], [:column; Symbol.(axes(dF, 1))])\n",
    "dLN= DataFrame([[names(dL)]; collect.(eachrow(dL))], [:column; Symbol.(axes(dL, 1))])"
   ]
  },
  {
   "cell_type": "code",
   "execution_count": null,
   "id": "7aee21fe-75a1-4cb2-aa1f-65fd5d84773f",
   "metadata": {},
   "outputs": [],
   "source": [
    "CSV.write(\"Fparams.csv\", dFN) #writes the F values\n",
    "CSV.write(\"Lyapunov.csv\", dLN) #writes the L values\n",
    "#combine both in a new Excel sheet to plot the inset"
   ]
  }
 ],
 "metadata": {
  "kernelspec": {
   "display_name": "Julia 1.9.2",
   "language": "julia",
   "name": "julia-1.9"
  },
  "language_info": {
   "file_extension": ".jl",
   "mimetype": "application/julia",
   "name": "julia",
   "version": "1.9.2"
  }
 },
 "nbformat": 4,
 "nbformat_minor": 5
}
